{
 "cells": [
  {
   "cell_type": "code",
   "execution_count": 212,
   "id": "aee41df0",
   "metadata": {},
   "outputs": [],
   "source": [
    "# import das bibliotecas usadas no projeto\n",
    "\n",
    "import pandas as pd\n",
    "import numpy as np\n",
    "import seaborn as sns\n",
    "import matplotlib.pyplot as plt"
   ]
  },
  {
   "cell_type": "markdown",
   "id": "78f2c9cc",
   "metadata": {},
   "source": [
    "# 1 - Leituras dos arquivos"
   ]
  },
  {
   "cell_type": "code",
   "execution_count": 213,
   "id": "70071c9b",
   "metadata": {
    "scrolled": true
   },
   "outputs": [
    {
     "data": {
      "text/html": [
       "<div>\n",
       "<style scoped>\n",
       "    .dataframe tbody tr th:only-of-type {\n",
       "        vertical-align: middle;\n",
       "    }\n",
       "\n",
       "    .dataframe tbody tr th {\n",
       "        vertical-align: top;\n",
       "    }\n",
       "\n",
       "    .dataframe thead th {\n",
       "        text-align: right;\n",
       "    }\n",
       "</style>\n",
       "<table border=\"1\" class=\"dataframe\">\n",
       "  <thead>\n",
       "    <tr style=\"text-align: right;\">\n",
       "      <th></th>\n",
       "      <th>Person_id</th>\n",
       "      <th>Age</th>\n",
       "      <th>Sex</th>\n",
       "      <th>Job</th>\n",
       "      <th>Housing</th>\n",
       "      <th>Saving accounts</th>\n",
       "      <th>Checking account</th>\n",
       "      <th>Credit amount</th>\n",
       "      <th>Duration</th>\n",
       "      <th>Purpose</th>\n",
       "      <th>Risk</th>\n",
       "    </tr>\n",
       "  </thead>\n",
       "  <tbody>\n",
       "    <tr>\n",
       "      <th>0</th>\n",
       "      <td>104</td>\n",
       "      <td>26</td>\n",
       "      <td>male</td>\n",
       "      <td>2</td>\n",
       "      <td>rent</td>\n",
       "      <td>NaN</td>\n",
       "      <td>NaN</td>\n",
       "      <td>2445</td>\n",
       "      <td>12</td>\n",
       "      <td>car</td>\n",
       "      <td>good</td>\n",
       "    </tr>\n",
       "    <tr>\n",
       "      <th>1</th>\n",
       "      <td>360</td>\n",
       "      <td>61</td>\n",
       "      <td>male</td>\n",
       "      <td>2</td>\n",
       "      <td>free</td>\n",
       "      <td>NaN</td>\n",
       "      <td>moderate</td>\n",
       "      <td>1239</td>\n",
       "      <td>18</td>\n",
       "      <td>education</td>\n",
       "      <td>good</td>\n",
       "    </tr>\n",
       "    <tr>\n",
       "      <th>2</th>\n",
       "      <td>695</td>\n",
       "      <td>50</td>\n",
       "      <td>male</td>\n",
       "      <td>2</td>\n",
       "      <td>rent</td>\n",
       "      <td>quite rich</td>\n",
       "      <td>NaN</td>\n",
       "      <td>1236</td>\n",
       "      <td>6</td>\n",
       "      <td>car</td>\n",
       "      <td>good</td>\n",
       "    </tr>\n",
       "    <tr>\n",
       "      <th>3</th>\n",
       "      <td>902</td>\n",
       "      <td>42</td>\n",
       "      <td>male</td>\n",
       "      <td>2</td>\n",
       "      <td>free</td>\n",
       "      <td>NaN</td>\n",
       "      <td>NaN</td>\n",
       "      <td>10477</td>\n",
       "      <td>36</td>\n",
       "      <td>car</td>\n",
       "      <td>good</td>\n",
       "    </tr>\n",
       "    <tr>\n",
       "      <th>4</th>\n",
       "      <td>312</td>\n",
       "      <td>26</td>\n",
       "      <td>female</td>\n",
       "      <td>2</td>\n",
       "      <td>own</td>\n",
       "      <td>little</td>\n",
       "      <td>rich</td>\n",
       "      <td>3749</td>\n",
       "      <td>24</td>\n",
       "      <td>furniture/equipment</td>\n",
       "      <td>good</td>\n",
       "    </tr>\n",
       "    <tr>\n",
       "      <th>5</th>\n",
       "      <td>410</td>\n",
       "      <td>20</td>\n",
       "      <td>female</td>\n",
       "      <td>2</td>\n",
       "      <td>own</td>\n",
       "      <td>little</td>\n",
       "      <td>moderate</td>\n",
       "      <td>1967</td>\n",
       "      <td>24</td>\n",
       "      <td>radio/TV</td>\n",
       "      <td>good</td>\n",
       "    </tr>\n",
       "    <tr>\n",
       "      <th>6</th>\n",
       "      <td>832</td>\n",
       "      <td>29</td>\n",
       "      <td>male</td>\n",
       "      <td>2</td>\n",
       "      <td>rent</td>\n",
       "      <td>little</td>\n",
       "      <td>little</td>\n",
       "      <td>11816</td>\n",
       "      <td>45</td>\n",
       "      <td>business</td>\n",
       "      <td>bad</td>\n",
       "    </tr>\n",
       "    <tr>\n",
       "      <th>7</th>\n",
       "      <td>542</td>\n",
       "      <td>31</td>\n",
       "      <td>male</td>\n",
       "      <td>2</td>\n",
       "      <td>own</td>\n",
       "      <td>NaN</td>\n",
       "      <td>little</td>\n",
       "      <td>6350</td>\n",
       "      <td>30</td>\n",
       "      <td>furniture/equipment</td>\n",
       "      <td>bad</td>\n",
       "    </tr>\n",
       "    <tr>\n",
       "      <th>8</th>\n",
       "      <td>72</td>\n",
       "      <td>51</td>\n",
       "      <td>male</td>\n",
       "      <td>3</td>\n",
       "      <td>free</td>\n",
       "      <td>little</td>\n",
       "      <td>little</td>\n",
       "      <td>1164</td>\n",
       "      <td>8</td>\n",
       "      <td>vacation/others</td>\n",
       "      <td>good</td>\n",
       "    </tr>\n",
       "    <tr>\n",
       "      <th>9</th>\n",
       "      <td>672</td>\n",
       "      <td>42</td>\n",
       "      <td>male</td>\n",
       "      <td>3</td>\n",
       "      <td>own</td>\n",
       "      <td>little</td>\n",
       "      <td>NaN</td>\n",
       "      <td>10366</td>\n",
       "      <td>60</td>\n",
       "      <td>car</td>\n",
       "      <td>good</td>\n",
       "    </tr>\n",
       "  </tbody>\n",
       "</table>\n",
       "</div>"
      ],
      "text/plain": [
       "   Person_id  Age     Sex  Job Housing Saving accounts Checking account  \\\n",
       "0        104   26    male    2    rent             NaN              NaN   \n",
       "1        360   61    male    2    free             NaN         moderate   \n",
       "2        695   50    male    2    rent      quite rich              NaN   \n",
       "3        902   42    male    2    free             NaN              NaN   \n",
       "4        312   26  female    2     own          little             rich   \n",
       "5        410   20  female    2     own          little         moderate   \n",
       "6        832   29    male    2    rent          little           little   \n",
       "7        542   31    male    2     own             NaN           little   \n",
       "8         72   51    male    3    free          little           little   \n",
       "9        672   42    male    3     own          little              NaN   \n",
       "\n",
       "   Credit amount  Duration              Purpose  Risk  \n",
       "0           2445        12                  car  good  \n",
       "1           1239        18            education  good  \n",
       "2           1236         6                  car  good  \n",
       "3          10477        36                  car  good  \n",
       "4           3749        24  furniture/equipment  good  \n",
       "5           1967        24             radio/TV  good  \n",
       "6          11816        45             business   bad  \n",
       "7           6350        30  furniture/equipment   bad  \n",
       "8           1164         8      vacation/others  good  \n",
       "9          10366        60                  car  good  "
      ]
     },
     "execution_count": 213,
     "metadata": {},
     "output_type": "execute_result"
    }
   ],
   "source": [
    "# leitura do dataset 'base1.csv'\n",
    "\n",
    "df1 = pd.read_csv('base1.csv', usecols=[1, 2, 3, 4, 5, 6, 7, 8, 9, 10, 11]) # droppa as colunas de índices 0 e 1 \n",
    "\n",
    "df1.rename(columns={'Unnamed: 0': 'Person_id'}, inplace=True) # alterando o nome da coluna para algo mais legível\n",
    "\n",
    "df1.head(10)"
   ]
  },
  {
   "cell_type": "code",
   "execution_count": 214,
   "id": "20d46ab5",
   "metadata": {
    "scrolled": true
   },
   "outputs": [
    {
     "data": {
      "text/html": [
       "<div>\n",
       "<style scoped>\n",
       "    .dataframe tbody tr th:only-of-type {\n",
       "        vertical-align: middle;\n",
       "    }\n",
       "\n",
       "    .dataframe tbody tr th {\n",
       "        vertical-align: top;\n",
       "    }\n",
       "\n",
       "    .dataframe thead th {\n",
       "        text-align: right;\n",
       "    }\n",
       "</style>\n",
       "<table border=\"1\" class=\"dataframe\">\n",
       "  <thead>\n",
       "    <tr style=\"text-align: right;\">\n",
       "      <th></th>\n",
       "      <th>Person_id</th>\n",
       "      <th>Age</th>\n",
       "      <th>Sex</th>\n",
       "      <th>Job</th>\n",
       "      <th>Housing</th>\n",
       "      <th>Saving accounts</th>\n",
       "      <th>Checking account</th>\n",
       "      <th>Credit amount</th>\n",
       "      <th>Duration</th>\n",
       "      <th>Purpose</th>\n",
       "      <th>Risk</th>\n",
       "    </tr>\n",
       "  </thead>\n",
       "  <tbody>\n",
       "    <tr>\n",
       "      <th>320</th>\n",
       "      <td>577</td>\n",
       "      <td>33</td>\n",
       "      <td>female</td>\n",
       "      <td>2</td>\n",
       "      <td>own</td>\n",
       "      <td>NaN</td>\n",
       "      <td>NaN</td>\n",
       "      <td>1927</td>\n",
       "      <td>24</td>\n",
       "      <td>education</td>\n",
       "      <td>good</td>\n",
       "    </tr>\n",
       "    <tr>\n",
       "      <th>321</th>\n",
       "      <td>496</td>\n",
       "      <td>29</td>\n",
       "      <td>male</td>\n",
       "      <td>3</td>\n",
       "      <td>rent</td>\n",
       "      <td>moderate</td>\n",
       "      <td>moderate</td>\n",
       "      <td>9034</td>\n",
       "      <td>36</td>\n",
       "      <td>furniture/equipment</td>\n",
       "      <td>bad</td>\n",
       "    </tr>\n",
       "    <tr>\n",
       "      <th>322</th>\n",
       "      <td>798</td>\n",
       "      <td>54</td>\n",
       "      <td>male</td>\n",
       "      <td>2</td>\n",
       "      <td>own</td>\n",
       "      <td>NaN</td>\n",
       "      <td>NaN</td>\n",
       "      <td>717</td>\n",
       "      <td>24</td>\n",
       "      <td>car</td>\n",
       "      <td>good</td>\n",
       "    </tr>\n",
       "    <tr>\n",
       "      <th>323</th>\n",
       "      <td>680</td>\n",
       "      <td>56</td>\n",
       "      <td>female</td>\n",
       "      <td>2</td>\n",
       "      <td>own</td>\n",
       "      <td>little</td>\n",
       "      <td>NaN</td>\n",
       "      <td>1538</td>\n",
       "      <td>6</td>\n",
       "      <td>education</td>\n",
       "      <td>good</td>\n",
       "    </tr>\n",
       "    <tr>\n",
       "      <th>324</th>\n",
       "      <td>718</td>\n",
       "      <td>31</td>\n",
       "      <td>male</td>\n",
       "      <td>2</td>\n",
       "      <td>own</td>\n",
       "      <td>NaN</td>\n",
       "      <td>rich</td>\n",
       "      <td>3148</td>\n",
       "      <td>24</td>\n",
       "      <td>radio/TV</td>\n",
       "      <td>good</td>\n",
       "    </tr>\n",
       "    <tr>\n",
       "      <th>325</th>\n",
       "      <td>467</td>\n",
       "      <td>32</td>\n",
       "      <td>male</td>\n",
       "      <td>2</td>\n",
       "      <td>own</td>\n",
       "      <td>NaN</td>\n",
       "      <td>NaN</td>\n",
       "      <td>7238</td>\n",
       "      <td>48</td>\n",
       "      <td>radio/TV</td>\n",
       "      <td>good</td>\n",
       "    </tr>\n",
       "    <tr>\n",
       "      <th>326</th>\n",
       "      <td>829</td>\n",
       "      <td>38</td>\n",
       "      <td>male</td>\n",
       "      <td>2</td>\n",
       "      <td>free</td>\n",
       "      <td>NaN</td>\n",
       "      <td>moderate</td>\n",
       "      <td>6681</td>\n",
       "      <td>48</td>\n",
       "      <td>business</td>\n",
       "      <td>good</td>\n",
       "    </tr>\n",
       "    <tr>\n",
       "      <th>327</th>\n",
       "      <td>296</td>\n",
       "      <td>20</td>\n",
       "      <td>female</td>\n",
       "      <td>2</td>\n",
       "      <td>rent</td>\n",
       "      <td>NaN</td>\n",
       "      <td>NaN</td>\n",
       "      <td>4675</td>\n",
       "      <td>12</td>\n",
       "      <td>car</td>\n",
       "      <td>good</td>\n",
       "    </tr>\n",
       "    <tr>\n",
       "      <th>328</th>\n",
       "      <td>235</td>\n",
       "      <td>30</td>\n",
       "      <td>male</td>\n",
       "      <td>3</td>\n",
       "      <td>own</td>\n",
       "      <td>little</td>\n",
       "      <td>little</td>\n",
       "      <td>1823</td>\n",
       "      <td>24</td>\n",
       "      <td>radio/TV</td>\n",
       "      <td>bad</td>\n",
       "    </tr>\n",
       "    <tr>\n",
       "      <th>329</th>\n",
       "      <td>633</td>\n",
       "      <td>19</td>\n",
       "      <td>female</td>\n",
       "      <td>2</td>\n",
       "      <td>rent</td>\n",
       "      <td>little</td>\n",
       "      <td>NaN</td>\n",
       "      <td>1980</td>\n",
       "      <td>9</td>\n",
       "      <td>furniture/equipment</td>\n",
       "      <td>bad</td>\n",
       "    </tr>\n",
       "  </tbody>\n",
       "</table>\n",
       "</div>"
      ],
      "text/plain": [
       "     Person_id  Age     Sex  Job Housing Saving accounts Checking account  \\\n",
       "320        577   33  female    2     own             NaN              NaN   \n",
       "321        496   29    male    3    rent        moderate         moderate   \n",
       "322        798   54    male    2     own             NaN              NaN   \n",
       "323        680   56  female    2     own          little              NaN   \n",
       "324        718   31    male    2     own             NaN             rich   \n",
       "325        467   32    male    2     own             NaN              NaN   \n",
       "326        829   38    male    2    free             NaN         moderate   \n",
       "327        296   20  female    2    rent             NaN              NaN   \n",
       "328        235   30    male    3     own          little           little   \n",
       "329        633   19  female    2    rent          little              NaN   \n",
       "\n",
       "     Credit amount  Duration              Purpose  Risk  \n",
       "320           1927        24            education  good  \n",
       "321           9034        36  furniture/equipment   bad  \n",
       "322            717        24                  car  good  \n",
       "323           1538         6            education  good  \n",
       "324           3148        24             radio/TV  good  \n",
       "325           7238        48             radio/TV  good  \n",
       "326           6681        48             business  good  \n",
       "327           4675        12                  car  good  \n",
       "328           1823        24             radio/TV   bad  \n",
       "329           1980         9  furniture/equipment   bad  "
      ]
     },
     "execution_count": 214,
     "metadata": {},
     "output_type": "execute_result"
    }
   ],
   "source": [
    "# leitura do dataset 'base2.csv'\n",
    "\n",
    "df2 = pd.read_csv('base2.csv', usecols=[1, 2, 3, 4, 5, 6, 7, 8, 9, 10, 11])\n",
    "\n",
    "df2.rename(columns={'Unnamed: 0': 'Person_id'}, inplace=True)\n",
    "\n",
    "df2.tail(10)"
   ]
  },
  {
   "cell_type": "markdown",
   "id": "d458871a",
   "metadata": {},
   "source": [
    "# 2 - Concatenação dos dados\n",
    "\n",
    "Concatenando os dados num único df e verificando se possuem a mesma estrutura para uma concatenação adequada"
   ]
  },
  {
   "cell_type": "code",
   "execution_count": 215,
   "id": "4f7bea8f",
   "metadata": {
    "scrolled": false
   },
   "outputs": [
    {
     "data": {
      "text/html": [
       "<div>\n",
       "<style scoped>\n",
       "    .dataframe tbody tr th:only-of-type {\n",
       "        vertical-align: middle;\n",
       "    }\n",
       "\n",
       "    .dataframe tbody tr th {\n",
       "        vertical-align: top;\n",
       "    }\n",
       "\n",
       "    .dataframe thead th {\n",
       "        text-align: right;\n",
       "    }\n",
       "</style>\n",
       "<table border=\"1\" class=\"dataframe\">\n",
       "  <thead>\n",
       "    <tr style=\"text-align: right;\">\n",
       "      <th></th>\n",
       "      <th>Person_id</th>\n",
       "      <th>Age</th>\n",
       "      <th>Sex</th>\n",
       "      <th>Job</th>\n",
       "      <th>Housing</th>\n",
       "      <th>Saving accounts</th>\n",
       "      <th>Checking account</th>\n",
       "      <th>Credit amount</th>\n",
       "      <th>Duration</th>\n",
       "      <th>Purpose</th>\n",
       "      <th>Risk</th>\n",
       "    </tr>\n",
       "  </thead>\n",
       "  <tbody>\n",
       "    <tr>\n",
       "      <th>0</th>\n",
       "      <td>104</td>\n",
       "      <td>26</td>\n",
       "      <td>male</td>\n",
       "      <td>2</td>\n",
       "      <td>rent</td>\n",
       "      <td>NaN</td>\n",
       "      <td>NaN</td>\n",
       "      <td>2445</td>\n",
       "      <td>12</td>\n",
       "      <td>car</td>\n",
       "      <td>good</td>\n",
       "    </tr>\n",
       "    <tr>\n",
       "      <th>1</th>\n",
       "      <td>360</td>\n",
       "      <td>61</td>\n",
       "      <td>male</td>\n",
       "      <td>2</td>\n",
       "      <td>free</td>\n",
       "      <td>NaN</td>\n",
       "      <td>moderate</td>\n",
       "      <td>1239</td>\n",
       "      <td>18</td>\n",
       "      <td>education</td>\n",
       "      <td>good</td>\n",
       "    </tr>\n",
       "    <tr>\n",
       "      <th>2</th>\n",
       "      <td>695</td>\n",
       "      <td>50</td>\n",
       "      <td>male</td>\n",
       "      <td>2</td>\n",
       "      <td>rent</td>\n",
       "      <td>quite rich</td>\n",
       "      <td>NaN</td>\n",
       "      <td>1236</td>\n",
       "      <td>6</td>\n",
       "      <td>car</td>\n",
       "      <td>good</td>\n",
       "    </tr>\n",
       "    <tr>\n",
       "      <th>3</th>\n",
       "      <td>902</td>\n",
       "      <td>42</td>\n",
       "      <td>male</td>\n",
       "      <td>2</td>\n",
       "      <td>free</td>\n",
       "      <td>NaN</td>\n",
       "      <td>NaN</td>\n",
       "      <td>10477</td>\n",
       "      <td>36</td>\n",
       "      <td>car</td>\n",
       "      <td>good</td>\n",
       "    </tr>\n",
       "    <tr>\n",
       "      <th>4</th>\n",
       "      <td>312</td>\n",
       "      <td>26</td>\n",
       "      <td>female</td>\n",
       "      <td>2</td>\n",
       "      <td>own</td>\n",
       "      <td>little</td>\n",
       "      <td>rich</td>\n",
       "      <td>3749</td>\n",
       "      <td>24</td>\n",
       "      <td>furniture/equipment</td>\n",
       "      <td>good</td>\n",
       "    </tr>\n",
       "    <tr>\n",
       "      <th>...</th>\n",
       "      <td>...</td>\n",
       "      <td>...</td>\n",
       "      <td>...</td>\n",
       "      <td>...</td>\n",
       "      <td>...</td>\n",
       "      <td>...</td>\n",
       "      <td>...</td>\n",
       "      <td>...</td>\n",
       "      <td>...</td>\n",
       "      <td>...</td>\n",
       "      <td>...</td>\n",
       "    </tr>\n",
       "    <tr>\n",
       "      <th>995</th>\n",
       "      <td>467</td>\n",
       "      <td>32</td>\n",
       "      <td>male</td>\n",
       "      <td>2</td>\n",
       "      <td>own</td>\n",
       "      <td>NaN</td>\n",
       "      <td>NaN</td>\n",
       "      <td>7238</td>\n",
       "      <td>48</td>\n",
       "      <td>radio/TV</td>\n",
       "      <td>good</td>\n",
       "    </tr>\n",
       "    <tr>\n",
       "      <th>996</th>\n",
       "      <td>829</td>\n",
       "      <td>38</td>\n",
       "      <td>male</td>\n",
       "      <td>2</td>\n",
       "      <td>free</td>\n",
       "      <td>NaN</td>\n",
       "      <td>moderate</td>\n",
       "      <td>6681</td>\n",
       "      <td>48</td>\n",
       "      <td>business</td>\n",
       "      <td>good</td>\n",
       "    </tr>\n",
       "    <tr>\n",
       "      <th>997</th>\n",
       "      <td>296</td>\n",
       "      <td>20</td>\n",
       "      <td>female</td>\n",
       "      <td>2</td>\n",
       "      <td>rent</td>\n",
       "      <td>NaN</td>\n",
       "      <td>NaN</td>\n",
       "      <td>4675</td>\n",
       "      <td>12</td>\n",
       "      <td>car</td>\n",
       "      <td>good</td>\n",
       "    </tr>\n",
       "    <tr>\n",
       "      <th>998</th>\n",
       "      <td>235</td>\n",
       "      <td>30</td>\n",
       "      <td>male</td>\n",
       "      <td>3</td>\n",
       "      <td>own</td>\n",
       "      <td>little</td>\n",
       "      <td>little</td>\n",
       "      <td>1823</td>\n",
       "      <td>24</td>\n",
       "      <td>radio/TV</td>\n",
       "      <td>bad</td>\n",
       "    </tr>\n",
       "    <tr>\n",
       "      <th>999</th>\n",
       "      <td>633</td>\n",
       "      <td>19</td>\n",
       "      <td>female</td>\n",
       "      <td>2</td>\n",
       "      <td>rent</td>\n",
       "      <td>little</td>\n",
       "      <td>NaN</td>\n",
       "      <td>1980</td>\n",
       "      <td>9</td>\n",
       "      <td>furniture/equipment</td>\n",
       "      <td>bad</td>\n",
       "    </tr>\n",
       "  </tbody>\n",
       "</table>\n",
       "<p>1000 rows × 11 columns</p>\n",
       "</div>"
      ],
      "text/plain": [
       "     Person_id  Age     Sex  Job Housing Saving accounts Checking account  \\\n",
       "0          104   26    male    2    rent             NaN              NaN   \n",
       "1          360   61    male    2    free             NaN         moderate   \n",
       "2          695   50    male    2    rent      quite rich              NaN   \n",
       "3          902   42    male    2    free             NaN              NaN   \n",
       "4          312   26  female    2     own          little             rich   \n",
       "..         ...  ...     ...  ...     ...             ...              ...   \n",
       "995        467   32    male    2     own             NaN              NaN   \n",
       "996        829   38    male    2    free             NaN         moderate   \n",
       "997        296   20  female    2    rent             NaN              NaN   \n",
       "998        235   30    male    3     own          little           little   \n",
       "999        633   19  female    2    rent          little              NaN   \n",
       "\n",
       "     Credit amount  Duration              Purpose  Risk  \n",
       "0             2445        12                  car  good  \n",
       "1             1239        18            education  good  \n",
       "2             1236         6                  car  good  \n",
       "3            10477        36                  car  good  \n",
       "4             3749        24  furniture/equipment  good  \n",
       "..             ...       ...                  ...   ...  \n",
       "995           7238        48             radio/TV  good  \n",
       "996           6681        48             business  good  \n",
       "997           4675        12                  car  good  \n",
       "998           1823        24             radio/TV   bad  \n",
       "999           1980         9  furniture/equipment   bad  \n",
       "\n",
       "[1000 rows x 11 columns]"
      ]
     },
     "metadata": {},
     "output_type": "display_data"
    }
   ],
   "source": [
    "concat_df = pd.concat([df1, df2], ignore_index=True)\n",
    "\n",
    "display(concat_df)"
   ]
  },
  {
   "cell_type": "code",
   "execution_count": 216,
   "id": "fbe88fab",
   "metadata": {},
   "outputs": [
    {
     "name": "stdout",
     "output_type": "stream",
     "text": [
      "<class 'pandas.core.frame.DataFrame'>\n",
      "RangeIndex: 1000 entries, 0 to 999\n",
      "Data columns (total 11 columns):\n",
      " #   Column            Non-Null Count  Dtype \n",
      "---  ------            --------------  ----- \n",
      " 0   Person_id         1000 non-null   int64 \n",
      " 1   Age               1000 non-null   int64 \n",
      " 2   Sex               1000 non-null   object\n",
      " 3   Job               1000 non-null   int64 \n",
      " 4   Housing           1000 non-null   object\n",
      " 5   Saving accounts   817 non-null    object\n",
      " 6   Checking account  606 non-null    object\n",
      " 7   Credit amount     1000 non-null   int64 \n",
      " 8   Duration          1000 non-null   int64 \n",
      " 9   Purpose           1000 non-null   object\n",
      " 10  Risk              1000 non-null   object\n",
      "dtypes: int64(5), object(6)\n",
      "memory usage: 86.1+ KB\n"
     ]
    }
   ],
   "source": [
    "# verificando as informações do df_concat\n",
    "\n",
    "concat_df.info()"
   ]
  },
  {
   "cell_type": "markdown",
   "id": "0696e35f",
   "metadata": {},
   "source": [
    "# 3 - Tratamento de dados duplicados\n",
    "\n",
    "Nesta etapa é verificado se há registros duplicados e caso tenha,são removidos deixando apenas a primeira ocorrencia"
   ]
  },
  {
   "cell_type": "code",
   "execution_count": 217,
   "id": "a0bba812",
   "metadata": {
    "scrolled": true
   },
   "outputs": [
    {
     "data": {
      "text/plain": [
       "0      False\n",
       "1      False\n",
       "2      False\n",
       "3      False\n",
       "4      False\n",
       "       ...  \n",
       "995    False\n",
       "996    False\n",
       "997    False\n",
       "998    False\n",
       "999    False\n",
       "Length: 1000, dtype: bool"
      ]
     },
     "execution_count": 217,
     "metadata": {},
     "output_type": "execute_result"
    }
   ],
   "source": [
    "# verificando se há registros duplicados, considerando todas as colunas\n",
    "\n",
    "concat_df.duplicated(keep=False) # parametro keep = false para visualizar todos os registros duplicados como True, caso houver"
   ]
  },
  {
   "cell_type": "code",
   "execution_count": 218,
   "id": "b0d89a2e",
   "metadata": {
    "scrolled": true
   },
   "outputs": [
    {
     "data": {
      "text/html": [
       "<div>\n",
       "<style scoped>\n",
       "    .dataframe tbody tr th:only-of-type {\n",
       "        vertical-align: middle;\n",
       "    }\n",
       "\n",
       "    .dataframe tbody tr th {\n",
       "        vertical-align: top;\n",
       "    }\n",
       "\n",
       "    .dataframe thead th {\n",
       "        text-align: right;\n",
       "    }\n",
       "</style>\n",
       "<table border=\"1\" class=\"dataframe\">\n",
       "  <thead>\n",
       "    <tr style=\"text-align: right;\">\n",
       "      <th></th>\n",
       "      <th>Person_id</th>\n",
       "      <th>Age</th>\n",
       "      <th>Sex</th>\n",
       "      <th>Job</th>\n",
       "      <th>Housing</th>\n",
       "      <th>Saving accounts</th>\n",
       "      <th>Checking account</th>\n",
       "      <th>Credit amount</th>\n",
       "      <th>Duration</th>\n",
       "      <th>Purpose</th>\n",
       "      <th>Risk</th>\n",
       "    </tr>\n",
       "  </thead>\n",
       "  <tbody>\n",
       "  </tbody>\n",
       "</table>\n",
       "</div>"
      ],
      "text/plain": [
       "Empty DataFrame\n",
       "Columns: [Person_id, Age, Sex, Job, Housing, Saving accounts, Checking account, Credit amount, Duration, Purpose, Risk]\n",
       "Index: []"
      ]
     },
     "execution_count": 218,
     "metadata": {},
     "output_type": "execute_result"
    }
   ],
   "source": [
    "# visualizando possíveis duplicatas na forma de um df\n",
    "\n",
    "concat_df.loc[concat_df.duplicated()]"
   ]
  },
  {
   "cell_type": "markdown",
   "id": "dce6de30",
   "metadata": {},
   "source": [
    "Como podemos ver, o dataset resultante do append entre os dataframes não contém valores duplicados"
   ]
  },
  {
   "cell_type": "markdown",
   "id": "6c1f8366",
   "metadata": {},
   "source": [
    "# 4 - Tratamento de valores faltantes\n",
    "\n",
    "Vamos agora identificar registros null e preenche-los com valores adequados "
   ]
  },
  {
   "cell_type": "markdown",
   "id": "e554d227",
   "metadata": {},
   "source": [
    "## 4.1 - Criação de perfis do conjunto de dados\n",
    "\n",
    "Primeiramente vamos verificar quais colunas possuem dados ausentes e como os dados estão distribuidos nelas com uma contagem das frequencias"
   ]
  },
  {
   "cell_type": "code",
   "execution_count": 220,
   "id": "1db3d6d8",
   "metadata": {
    "scrolled": false
   },
   "outputs": [
    {
     "data": {
      "text/plain": [
       "Person_id             0\n",
       "Age                   0\n",
       "Sex                   0\n",
       "Job                   0\n",
       "Housing               0\n",
       "Saving accounts     183\n",
       "Checking account    394\n",
       "Credit amount         0\n",
       "Duration              0\n",
       "Purpose               0\n",
       "Risk                  0\n",
       "dtype: int64"
      ]
     },
     "execution_count": 220,
     "metadata": {},
     "output_type": "execute_result"
    }
   ],
   "source": [
    "# identificando quais colunas apresentam valores null\n",
    "concat_df.isnull().sum()"
   ]
  },
  {
   "cell_type": "markdown",
   "id": "4fd16bbc",
   "metadata": {},
   "source": [
    "Como podemos ver acima, as colunas que possuem valores null são 'Saving accounts' e 'Checking account'.Vamos visualizar com um histograma como os dados delas estão distribuidos"
   ]
  },
  {
   "cell_type": "markdown",
   "id": "c03f6328",
   "metadata": {},
   "source": [
    "## 4.1.1 - Perfil da coluna Saving accounts"
   ]
  },
  {
   "cell_type": "code",
   "execution_count": 221,
   "id": "802e16e4",
   "metadata": {
    "scrolled": true
   },
   "outputs": [
    {
     "data": {
      "text/plain": [
       "Saving accounts\n",
       "little        603\n",
       "null_value    183\n",
       "moderate      103\n",
       "quite rich     63\n",
       "rich           48\n",
       "Name: count, dtype: int64"
      ]
     },
     "execution_count": 221,
     "metadata": {},
     "output_type": "execute_result"
    }
   ],
   "source": [
    "# Forma 1: usando método .value_counts() - Os valores null foram preenchidos com 'null_value' para criacao de um bin \n",
    "# e aparecerem no plot do histograma\n",
    "concat_df['Saving accounts']\\\n",
    "        .fillna('null_value')\\\n",
    "        .value_counts()\n",
    "\n",
    "# Forma 2: agrupando por um contagem\n",
    "#concat_df.groupby(by='Saving accounts')['Saving accounts'].agg('count')\n"
   ]
  },
  {
   "cell_type": "code",
   "execution_count": 222,
   "id": "fb3542da",
   "metadata": {
    "scrolled": false
   },
   "outputs": [
    {
     "name": "stderr",
     "output_type": "stream",
     "text": [
      "C:\\Users\\vinic\\anaconda3\\Lib\\site-packages\\seaborn\\axisgrid.py:118: UserWarning: The figure layout has changed to tight\n",
      "  self._figure.tight_layout(*args, **kwargs)\n"
     ]
    },
    {
     "data": {
      "text/plain": [
       "<seaborn.axisgrid.FacetGrid at 0x2456c33b4d0>"
      ]
     },
     "execution_count": 222,
     "metadata": {},
     "output_type": "execute_result"
    },
    {
     "data": {
      "image/png": "[encoded data removed]",
      "text/plain": [
       "<Figure size 500x500 with 1 Axes>"
      ]
     },
     "metadata": {},
     "output_type": "display_data"
    }
   ],
   "source": [
    "# perfil dos valores da coluna 'Saving accounts'\n",
    "sns.displot(concat_df['Saving accounts'].fillna('null_value'))"
   ]
  },
  {
   "cell_type": "markdown",
   "id": "c28204d2",
   "metadata": {},
   "source": [
    "## 4.1.2 - Perfil da coluna Checking account"
   ]
  },
  {
   "cell_type": "code",
   "execution_count": 223,
   "id": "361369ab",
   "metadata": {
    "scrolled": true
   },
   "outputs": [
    {
     "data": {
      "text/plain": [
       "Checking account\n",
       "null_value    394\n",
       "little        274\n",
       "moderate      269\n",
       "rich           63\n",
       "Name: count, dtype: int64"
      ]
     },
     "execution_count": 223,
     "metadata": {},
     "output_type": "execute_result"
    }
   ],
   "source": [
    "concat_df['Checking account']\\\n",
    "        .fillna('null_value')\\\n",
    "        .value_counts()"
   ]
  },
  {
   "cell_type": "code",
   "execution_count": 224,
   "id": "711f6d2b",
   "metadata": {
    "scrolled": false
   },
   "outputs": [
    {
     "name": "stderr",
     "output_type": "stream",
     "text": [
      "C:\\Users\\vinic\\anaconda3\\Lib\\site-packages\\seaborn\\axisgrid.py:118: UserWarning: The figure layout has changed to tight\n",
      "  self._figure.tight_layout(*args, **kwargs)\n"
     ]
    },
    {
     "data": {
      "text/plain": [
       "<seaborn.axisgrid.FacetGrid at 0x2456c3a8cd0>"
      ]
     },
     "execution_count": 224,
     "metadata": {},
     "output_type": "execute_result"
    },
    {
     "data": {
      "image/png": "[encoded data removed]",
      "text/plain": [
       "<Figure size 500x500 with 1 Axes>"
      ]
     },
     "metadata": {},
     "output_type": "display_data"
    }
   ],
   "source": [
    "# perfil dos valores da coluna 'Saving accounts'\n",
    "sns.displot(concat_df['Checking account'].fillna('null_value'))"
   ]
  },
  {
   "cell_type": "markdown",
   "id": "dbc71ca9",
   "metadata": {},
   "source": [
    "## 4.1.3 - Substituindo os valores null\n",
    "\n",
    "Para a coluna 'Saving account', como temos valores categóricos, sendo que o bin 'little' representa cerca de 60% (moda), preencheremos os valores na desssa coluna com 'little'.\n",
    "\n",
    "Já para coluna 'Checking accounts', como temos uma quantidade significativa de valores null, o ideal seria escolher um método mais robusto para preencher esses valores (por exemplo um modelo de machine learning) ou conversar com a área de negócio a fim de entender se faz sentido ou não esses valores estarem ausentes ou até mesmo verificar com o(s) engenheiro(s) de dado(s) se não pode ser um possível problema nas cargas das tabelas.\n",
    "\n",
    "Para propositos de estudos, preencheremos os valores da coluna 'Checking account' com valores aleatórios"
   ]
  },
  {
   "cell_type": "code",
   "execution_count": 225,
   "id": "731eafad",
   "metadata": {},
   "outputs": [
    {
     "data": {
      "text/plain": [
       "Saving accounts\n",
       "little        786\n",
       "moderate      103\n",
       "quite rich     63\n",
       "rich           48\n",
       "Name: count, dtype: int64"
      ]
     },
     "execution_count": 225,
     "metadata": {},
     "output_type": "execute_result"
    }
   ],
   "source": [
    "# preenchendo a coluna 'Saving accounts' no df original com a moda 'little'\n",
    "\n",
    "concat_df['Saving accounts'].fillna('little', inplace=True)\n",
    "\n",
    "concat_df['Saving accounts'].value_counts()"
   ]
  },
  {
   "cell_type": "code",
   "execution_count": 230,
   "id": "d1b751bf",
   "metadata": {},
   "outputs": [
    {
     "data": {
      "text/plain": [
       "Checking account\n",
       "rich        457\n",
       "little      274\n",
       "moderate    269\n",
       "Name: count, dtype: int64"
      ]
     },
     "execution_count": 230,
     "metadata": {},
     "output_type": "execute_result"
    }
   ],
   "source": [
    "# preenchendo a coluna 'Checking accounts' no df original com valores aleatórios\n",
    "\n",
    "# pegando as categorias distintas diferentes de NaN da coluna 'Saving account'\n",
    "categorias = concat_df['Checking account'].dropna().unique()\n",
    "\n",
    "# preenchendo com valores aleatórios caso a linha esteja null\n",
    "concat_df['Checking account'].fillna(np.random.choice(categorias), inplace=True)\n",
    "\n",
    "concat_df['Checking account'].value_counts()"
   ]
  },
  {
   "cell_type": "code",
   "execution_count": 231,
   "id": "3b717b33",
   "metadata": {
    "scrolled": true
   },
   "outputs": [
    {
     "name": "stderr",
     "output_type": "stream",
     "text": [
      "C:\\Users\\vinic\\anaconda3\\Lib\\site-packages\\seaborn\\axisgrid.py:118: UserWarning: The figure layout has changed to tight\n",
      "  self._figure.tight_layout(*args, **kwargs)\n"
     ]
    },
    {
     "data": {
      "text/plain": [
       "<seaborn.axisgrid.FacetGrid at 0x245720e0550>"
      ]
     },
     "execution_count": 231,
     "metadata": {},
     "output_type": "execute_result"
    },
    {
     "data": {
      "image/png": "[encoded data removed]",
      "text/plain": [
       "<Figure size 500x500 with 1 Axes>"
      ]
     },
     "metadata": {},
     "output_type": "display_data"
    }
   ],
   "source": [
    "# verificando se a coluna Checking account teve os valores preenchidos\n",
    "sns.displot(concat_df['Checking account'])"
   ]
  },
  {
   "cell_type": "markdown",
   "id": "1369553b",
   "metadata": {},
   "source": [
    "# 5 - Verificação de Outliers\n",
    "\n",
    "Verificando de maneira gráfica se existem outliers nos dados por meio do IQR"
   ]
  },
  {
   "cell_type": "code",
   "execution_count": 232,
   "id": "93a1ab1e",
   "metadata": {
    "scrolled": true
   },
   "outputs": [
    {
     "data": {
      "image/png": "[encoded data removed]",
      "text/plain": [
       "<Figure size 640x480 with 1 Axes>"
      ]
     },
     "metadata": {},
     "output_type": "display_data"
    }
   ],
   "source": [
    "concat_df.boxplot()\n",
    "plt.title('Boxplot das colunas do concat_df')\n",
    "plt.xlabel('Colunas')\n",
    "plt.ylabel('Valores')\n",
    "plt.show()"
   ]
  },
  {
   "cell_type": "markdown",
   "id": "b2ff6fe7",
   "metadata": {},
   "source": [
    "Como é possível verificar, temos outliers na coluna"
   ]
  },
  {
   "cell_type": "code",
   "execution_count": 233,
   "id": "a9aa648a",
   "metadata": {
    "scrolled": true
   },
   "outputs": [
    {
     "data": {
      "text/html": [
       "<div>\n",
       "<style scoped>\n",
       "    .dataframe tbody tr th:only-of-type {\n",
       "        vertical-align: middle;\n",
       "    }\n",
       "\n",
       "    .dataframe tbody tr th {\n",
       "        vertical-align: top;\n",
       "    }\n",
       "\n",
       "    .dataframe thead th {\n",
       "        text-align: right;\n",
       "    }\n",
       "</style>\n",
       "<table border=\"1\" class=\"dataframe\">\n",
       "  <thead>\n",
       "    <tr style=\"text-align: right;\">\n",
       "      <th></th>\n",
       "      <th>Person_id</th>\n",
       "      <th>Age</th>\n",
       "      <th>Sex</th>\n",
       "      <th>Job</th>\n",
       "      <th>Housing</th>\n",
       "      <th>Saving accounts</th>\n",
       "      <th>Checking account</th>\n",
       "      <th>Credit amount</th>\n",
       "      <th>Duration</th>\n",
       "      <th>Purpose</th>\n",
       "      <th>Risk</th>\n",
       "    </tr>\n",
       "  </thead>\n",
       "  <tbody>\n",
       "    <tr>\n",
       "      <th>3</th>\n",
       "      <td>902</td>\n",
       "      <td>42</td>\n",
       "      <td>male</td>\n",
       "      <td>2</td>\n",
       "      <td>free</td>\n",
       "      <td>little</td>\n",
       "      <td>rich</td>\n",
       "      <td>10477</td>\n",
       "      <td>36</td>\n",
       "      <td>car</td>\n",
       "      <td>good</td>\n",
       "    </tr>\n",
       "    <tr>\n",
       "      <th>6</th>\n",
       "      <td>832</td>\n",
       "      <td>29</td>\n",
       "      <td>male</td>\n",
       "      <td>2</td>\n",
       "      <td>rent</td>\n",
       "      <td>little</td>\n",
       "      <td>little</td>\n",
       "      <td>11816</td>\n",
       "      <td>45</td>\n",
       "      <td>business</td>\n",
       "      <td>bad</td>\n",
       "    </tr>\n",
       "    <tr>\n",
       "      <th>9</th>\n",
       "      <td>672</td>\n",
       "      <td>42</td>\n",
       "      <td>male</td>\n",
       "      <td>3</td>\n",
       "      <td>own</td>\n",
       "      <td>little</td>\n",
       "      <td>rich</td>\n",
       "      <td>10366</td>\n",
       "      <td>60</td>\n",
       "      <td>car</td>\n",
       "      <td>good</td>\n",
       "    </tr>\n",
       "    <tr>\n",
       "      <th>37</th>\n",
       "      <td>291</td>\n",
       "      <td>28</td>\n",
       "      <td>male</td>\n",
       "      <td>3</td>\n",
       "      <td>rent</td>\n",
       "      <td>little</td>\n",
       "      <td>moderate</td>\n",
       "      <td>9398</td>\n",
       "      <td>36</td>\n",
       "      <td>car</td>\n",
       "      <td>bad</td>\n",
       "    </tr>\n",
       "    <tr>\n",
       "      <th>42</th>\n",
       "      <td>450</td>\n",
       "      <td>30</td>\n",
       "      <td>male</td>\n",
       "      <td>3</td>\n",
       "      <td>own</td>\n",
       "      <td>little</td>\n",
       "      <td>rich</td>\n",
       "      <td>11054</td>\n",
       "      <td>36</td>\n",
       "      <td>car</td>\n",
       "      <td>good</td>\n",
       "    </tr>\n",
       "    <tr>\n",
       "      <th>...</th>\n",
       "      <td>...</td>\n",
       "      <td>...</td>\n",
       "      <td>...</td>\n",
       "      <td>...</td>\n",
       "      <td>...</td>\n",
       "      <td>...</td>\n",
       "      <td>...</td>\n",
       "      <td>...</td>\n",
       "      <td>...</td>\n",
       "      <td>...</td>\n",
       "      <td>...</td>\n",
       "    </tr>\n",
       "    <tr>\n",
       "      <th>914</th>\n",
       "      <td>657</td>\n",
       "      <td>37</td>\n",
       "      <td>male</td>\n",
       "      <td>2</td>\n",
       "      <td>own</td>\n",
       "      <td>little</td>\n",
       "      <td>rich</td>\n",
       "      <td>10222</td>\n",
       "      <td>48</td>\n",
       "      <td>radio/TV</td>\n",
       "      <td>good</td>\n",
       "    </tr>\n",
       "    <tr>\n",
       "      <th>936</th>\n",
       "      <td>395</td>\n",
       "      <td>32</td>\n",
       "      <td>male</td>\n",
       "      <td>2</td>\n",
       "      <td>rent</td>\n",
       "      <td>moderate</td>\n",
       "      <td>moderate</td>\n",
       "      <td>11760</td>\n",
       "      <td>39</td>\n",
       "      <td>education</td>\n",
       "      <td>good</td>\n",
       "    </tr>\n",
       "    <tr>\n",
       "      <th>940</th>\n",
       "      <td>818</td>\n",
       "      <td>43</td>\n",
       "      <td>male</td>\n",
       "      <td>3</td>\n",
       "      <td>own</td>\n",
       "      <td>little</td>\n",
       "      <td>little</td>\n",
       "      <td>15857</td>\n",
       "      <td>36</td>\n",
       "      <td>vacation/others</td>\n",
       "      <td>good</td>\n",
       "    </tr>\n",
       "    <tr>\n",
       "      <th>967</th>\n",
       "      <td>653</td>\n",
       "      <td>42</td>\n",
       "      <td>male</td>\n",
       "      <td>3</td>\n",
       "      <td>own</td>\n",
       "      <td>moderate</td>\n",
       "      <td>moderate</td>\n",
       "      <td>8086</td>\n",
       "      <td>36</td>\n",
       "      <td>car</td>\n",
       "      <td>bad</td>\n",
       "    </tr>\n",
       "    <tr>\n",
       "      <th>991</th>\n",
       "      <td>496</td>\n",
       "      <td>29</td>\n",
       "      <td>male</td>\n",
       "      <td>3</td>\n",
       "      <td>rent</td>\n",
       "      <td>moderate</td>\n",
       "      <td>moderate</td>\n",
       "      <td>9034</td>\n",
       "      <td>36</td>\n",
       "      <td>furniture/equipment</td>\n",
       "      <td>bad</td>\n",
       "    </tr>\n",
       "  </tbody>\n",
       "</table>\n",
       "<p>72 rows × 11 columns</p>\n",
       "</div>"
      ],
      "text/plain": [
       "     Person_id  Age   Sex  Job Housing Saving accounts Checking account  \\\n",
       "3          902   42  male    2    free          little             rich   \n",
       "6          832   29  male    2    rent          little           little   \n",
       "9          672   42  male    3     own          little             rich   \n",
       "37         291   28  male    3    rent          little         moderate   \n",
       "42         450   30  male    3     own          little             rich   \n",
       "..         ...  ...   ...  ...     ...             ...              ...   \n",
       "914        657   37  male    2     own          little             rich   \n",
       "936        395   32  male    2    rent        moderate         moderate   \n",
       "940        818   43  male    3     own          little           little   \n",
       "967        653   42  male    3     own        moderate         moderate   \n",
       "991        496   29  male    3    rent        moderate         moderate   \n",
       "\n",
       "     Credit amount  Duration              Purpose  Risk  \n",
       "3            10477        36                  car  good  \n",
       "6            11816        45             business   bad  \n",
       "9            10366        60                  car  good  \n",
       "37            9398        36                  car   bad  \n",
       "42           11054        36                  car  good  \n",
       "..             ...       ...                  ...   ...  \n",
       "914          10222        48             radio/TV  good  \n",
       "936          11760        39            education  good  \n",
       "940          15857        36      vacation/others  good  \n",
       "967           8086        36                  car   bad  \n",
       "991           9034        36  furniture/equipment   bad  \n",
       "\n",
       "[72 rows x 11 columns]"
      ]
     },
     "metadata": {},
     "output_type": "display_data"
    }
   ],
   "source": [
    "# intervalo entre Q1 e Q3\n",
    "\n",
    "q1 = concat_df['Credit amount'].quantile(0.25) # primeiro quartil\n",
    "q3 = concat_df['Credit amount'].quantile(0.75) # terceiro quartil\n",
    "\n",
    "iqr = q3 - q1 # intervalo interquartilico\n",
    "\n",
    "# limites inferior e superior\n",
    "\n",
    "l_inferior = q1 - 1.5 * iqr\n",
    "\n",
    "l_superior = q3 + 1.5 * iqr\n",
    "\n",
    "# filtragem dos outliers no concat_df\n",
    "outliers = concat_df[(concat_df['Credit amount'] > l_superior) | (concat_df['Credit amount'] < l_inferior)]\n",
    "\n",
    "display(outliers)"
   ]
  },
  {
   "cell_type": "markdown",
   "id": "60606d61",
   "metadata": {},
   "source": [
    "Como os 72 registros representam cerca de 7% do nosso dataset, talvez a melhor forma de lidar com eles não seja droppando eles, mas sim aplicando algum tipo de transformação / normalização dos registros ou substituir eles por algum outro valor"
   ]
  }
 ],
 "metadata": {
  "kernelspec": {
   "display_name": "Python 3 (ipykernel)",
   "language": "python",
   "name": "python3"
  },
  "language_info": {
   "codemirror_mode": {
    "name": "ipython",
    "version": 3
   },
   "file_extension": ".py",
   "mimetype": "text/x-python",
   "name": "python",
   "nbconvert_exporter": "python",
   "pygments_lexer": "ipython3",
   "version": "3.11.5"
  }
 },
 "nbformat": 4,
 "nbformat_minor": 5
}
